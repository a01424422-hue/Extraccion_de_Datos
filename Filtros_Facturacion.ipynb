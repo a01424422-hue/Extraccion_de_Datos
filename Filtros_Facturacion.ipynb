{
 "cells": [
  {
   "cell_type": "markdown",
   "id": "ad5131c9",
   "metadata": {},
   "source": [
    "NOTA: Variables filtradas por cada filtro\n",
    "  1) Filtro #1 -> Variable: CVE_CLPV (rango 1000 a 2000, inclusivo)\n",
    "  2) Filtro #2 -> Variable: CVE_VEND (todas EXCEPTO claves '5' y '4')\n",
    "  3) Filtro #3 -> Variable: FECHA_ENT (solo fecha 28/02/2022)\n",
    "  4) Filtro #4 -> Variables: CAN_TOT (< 5951.7)  OR  STATUS == 'E'\n",
    "  5) Filtro #5 -> Columnas seleccionadas: CVE_DOC, FECHA_ENT, FECHA_VEN, CAN_TOT\n",
    "  6) Filtro #6 -> Filas 7001 a 7099 (basado en numeración humana 1..N)\n",
    "  7) Filtro #7 -> Variable: CVE_VEND in {1, 2}; se establece índice CVE_VEND\n",
    "                  y se conserva columna FECHAELAB (si existe)"
   ]
  },
  {
   "cell_type": "code",
   "execution_count": 150,
   "id": "b3c02202",
   "metadata": {},
   "outputs": [],
   "source": [
    "#Importar librerías\n",
    "import os\n",
    "import sys\n",
    "import pandas as pd"
   ]
  },
  {
   "cell_type": "code",
   "execution_count": 151,
   "id": "b5910523",
   "metadata": {},
   "outputs": [],
   "source": [
    "#Configuración de rutas\n",
    "INPUT_PATH = r\"C:\\Users\\navae\\OneDrive\\Escritorio\\Tec\\Semestre 5\\Plataformas de analítica de negocios para organizaciones\\Clonación Github\\Extraccion_de_Datos\\Datos_Facturación.csv\"\n",
    "OUTPUT_DIR = r\"C:\\Users\\navae\\OneDrive\\Escritorio\\Tec\\Semestre 5\\Plataformas de analítica de negocios para organizaciones\\Clonación Github\\Extraccion_de_Datos\"\n"
   ]
  },
  {
   "cell_type": "code",
   "execution_count": 152,
   "id": "70ff323b",
   "metadata": {},
   "outputs": [],
   "source": [
    "# Leer CSV\n",
    "df = pd.read_csv(INPUT_PATH)"
   ]
  },
  {
   "cell_type": "code",
   "execution_count": 153,
   "id": "8695015a",
   "metadata": {},
   "outputs": [
    {
     "name": "stdout",
     "output_type": "stream",
     "text": [
      "<class 'pandas.core.frame.DataFrame'>\n",
      "RangeIndex: 10895 entries, 0 to 10894\n",
      "Data columns (total 13 columns):\n",
      " #   Column         Non-Null Count  Dtype  \n",
      "---  ------         --------------  -----  \n",
      " 0   Unnamed: 0     10895 non-null  int64  \n",
      " 1   CVE_DOC        10890 non-null  object \n",
      " 2   CVE_CLPV       10895 non-null  float64\n",
      " 3   STATUS         10886 non-null  object \n",
      " 4   CVE_VEND       10847 non-null  float64\n",
      " 5   FECHAELAB      10893 non-null  object \n",
      " 6   FECHA_DOC      10894 non-null  object \n",
      " 7   FECHA_ENT      10893 non-null  object \n",
      " 8   FECHA_VEN      10895 non-null  object \n",
      " 9   FECHA_CANCELA  358 non-null    object \n",
      " 10  CAN_TOT        10889 non-null  float64\n",
      " 11  DES_TOT        10894 non-null  float64\n",
      " 12  DES_FIN        10892 non-null  float64\n",
      "dtypes: float64(5), int64(1), object(7)\n",
      "memory usage: 1.1+ MB\n"
     ]
    }
   ],
   "source": [
    "# Vistazo rápido a los datos\n",
    "df.info()"
   ]
  },
  {
   "cell_type": "code",
   "execution_count": 154,
   "id": "9fc55974",
   "metadata": {},
   "outputs": [],
   "source": [
    "# Filtro 1: CVE_CLPV en [1000, 2000]\n",
    "if \"CVE_CLPV\" in df.columns:\n",
    "    f1 = df[(df[\"CVE_CLPV\"] >= 1000) & (df[\"CVE_CLPV\"] <= 2000)]\n",
    "else:\n",
    "    f1 = pd.DataFrame()\n",
    "\n",
    "#Guardar\n",
    "f1_path = os.path.join(OUTPUT_DIR, \"Filtro1_CVE_CLPV_1000_2000.csv\")\n",
    "f1.to_csv(f1_path, index=False, encoding=\"utf-8-sig\")\n"
   ]
  },
  {
   "cell_type": "code",
   "execution_count": 155,
   "id": "0a510289",
   "metadata": {},
   "outputs": [],
   "source": [
    "# Filtro 2: CVE_VEND != {\"5\",\"4\"}\n",
    "if \"CVE_VEND\" in df.columns:\n",
    "    # Convertir a string \n",
    "    vend_str = df[\"CVE_VEND\"].astype(str)\n",
    "    f2 = df[~vend_str.isin([\"5.0\", \"4.0\"])]\n",
    "else:\n",
    "    f2 = pd.DataFrame()\n",
    "  \n",
    "#Guardar\n",
    "f2_path = os.path.join(OUTPUT_DIR, \"Filtro2_CVE_VEND_excluir_5_4.csv\")\n",
    "f2.to_csv(f2_path, index=False, encoding=\"utf-8-sig\")"
   ]
  },
  {
   "cell_type": "code",
   "execution_count": 156,
   "id": "18d24bc9",
   "metadata": {},
   "outputs": [
    {
     "name": "stderr",
     "output_type": "stream",
     "text": [
      "C:\\Users\\navae\\AppData\\Local\\Temp\\ipykernel_21460\\1036824748.py:4: UserWarning: The argument 'infer_datetime_format' is deprecated and will be removed in a future version. A strict version of it is now the default, see https://pandas.pydata.org/pdeps/0004-consistent-to-datetime-parsing.html. You can safely remove this argument.\n",
      "  fe = pd.to_datetime(fe_str, errors=\"coerce\", infer_datetime_format=True)\n"
     ]
    }
   ],
   "source": [
    "# Filtro 3: FECHA_ENT == 28/02/2022 (rango del día)\n",
    "if \"FECHA_ENT\" in df.columns:\n",
    "    fe_str = df[\"FECHA_ENT\"].astype(str).str.strip()\n",
    "    fe = pd.to_datetime(fe_str, errors=\"coerce\", infer_datetime_format=True)\n",
    "\n",
    "    start = pd.Timestamp(\"2022-02-28 00:00:00\")\n",
    "    end   = pd.Timestamp(\"2022-03-01 00:00:00\")\n",
    "    mask = (fe >= start) & (fe < end)\n",
    "\n",
    "    f3 = df.loc[mask].copy()\n",
    "else:\n",
    "    f3 = pd.DataFrame()\n",
    "\n",
    "#Guardar\n",
    "f3_path = os.path.join(OUTPUT_DIR, \"Filtro3_FECHA_ENT_2022-02-28.csv\")\n",
    "f3.to_csv(f3_path, index=False, encoding=\"utf-8-sig\")"
   ]
  },
  {
   "cell_type": "code",
   "execution_count": 157,
   "id": "d8096c02",
   "metadata": {},
   "outputs": [],
   "source": [
    "# Filtro 4: CAN_TOT < 5951.7  OR  STATUS == \"E\" \n",
    "cond_left = pd.Series(False, index=df.index)\n",
    "if \"CAN_TOT\" in df.columns:\n",
    "    cond_left = df[\"CAN_TOT\"] < 5951.7\n",
    "\n",
    "cond_right = pd.Series(False, index=df.index)\n",
    "if \"STATUS\" in df.columns:\n",
    "    cond_right = df[\"STATUS\"].astype(str) == \"E\"\n",
    "\n",
    "f4 = df[cond_left | cond_right]\n",
    "\n",
    "#Guardar\n",
    "f4_path = os.path.join(OUTPUT_DIR, \"Filtro4_CAN_TOT_menor_5951_7_o_STATUS_E.csv\")\n",
    "f4.to_csv(f4_path, index=False, encoding=\"utf-8-sig\")"
   ]
  },
  {
   "cell_type": "code",
   "execution_count": 158,
   "id": "a575e323",
   "metadata": {},
   "outputs": [],
   "source": [
    "# Filtro 5: Solo columnas\n",
    "cols = [\"CVE_DOC\", \"FECHA_ENT\", \"FECHA_VEN\", \"CAN_TOT\"]\n",
    "existing_cols = [c for c in cols if c in df.columns]\n",
    "f5 = df[existing_cols].copy()\n",
    "\n",
    "#Guardar\n",
    "f5_path = os.path.join(OUTPUT_DIR, \"Filtro5_columnas_CVE_DOC_FECHA_ENT_FECHA_VEN_CAN_TOT.csv\")\n",
    "f5.to_csv(f5_path, index=False, encoding=\"utf-8-sig\")"
   ]
  },
  {
   "cell_type": "code",
   "execution_count": 159,
   "id": "5a56decb",
   "metadata": {},
   "outputs": [],
   "source": [
    "# Filtro 6: Solo filas 7001-7099\n",
    "f6 = df.iloc[7001:7100].copy()\n",
    "\n",
    "# Guardar\n",
    "f6_path = os.path.join(OUTPUT_DIR, \"Filtro6_filas_7001_7099.csv\")\n",
    "f6.to_csv(f6_path, index=False, encoding=\"utf-8-sig\")"
   ]
  },
  {
   "cell_type": "code",
   "execution_count": 160,
   "id": "f91f4821",
   "metadata": {},
   "outputs": [],
   "source": [
    "# Filtro 7: Index = CVE_VEND (valores 1,2) con columna FECHAELAB\n",
    "if \"CVE_VEND\" in df.columns:\n",
    "    f7 = df[df[\"CVE_VEND\"].isin([1, 2])].set_index(\"CVE_VEND\")[[\"FECHAELAB\"]].copy()\n",
    "else:\n",
    "    f7 = pd.DataFrame()\n",
    "\n",
    "# Guardar\n",
    "f7_path = os.path.join(OUTPUT_DIR, \"Filtro7_index_CVE_VEND_vals_1_2_col_FECHAELAB.csv\")\n",
    "f7.to_csv(f7_path, encoding=\"utf-8-sig\")\n",
    "\n"
   ]
  }
 ],
 "metadata": {
  "kernelspec": {
   "display_name": "Python 3",
   "language": "python",
   "name": "python3"
  },
  "language_info": {
   "codemirror_mode": {
    "name": "ipython",
    "version": 3
   },
   "file_extension": ".py",
   "mimetype": "text/x-python",
   "name": "python",
   "nbconvert_exporter": "python",
   "pygments_lexer": "ipython3",
   "version": "3.13.6"
  }
 },
 "nbformat": 4,
 "nbformat_minor": 5
}
