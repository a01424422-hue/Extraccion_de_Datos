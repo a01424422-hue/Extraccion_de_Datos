{
 "cells": [
  {
   "cell_type": "markdown",
   "id": "bdbe578e",
   "metadata": {},
   "source": [
    "**NOTA: Variables filtradas por cada filtro**\n",
    "\n",
    "Filtro a → Variable: id_anfitrion (se seleccionan 5 anfitriones distintos y se ordenan por ID).\n",
    "\n",
    "Filtro b → Variable: antiguedad_host (solo registros con año de unión > 2020).\n",
    "\n",
    "Filtro c → Variable: tiempo_respuesta_host (solo valores que indiquen respuesta en 1 día o menos).\n",
    "\n",
    "Filtro d → Filas: múltiplos de 200 (400, 600, 800, …) en todo el dataset.\n",
    "\n",
    "Filtro e → Variable: tipo_habitacion (solo registros con valores “Entire home/apt” o “Private room”).\n",
    "\n",
    "Filtro f → Variable: camas (solo registros con ≤ 4 camas).\n",
    "\n",
    "Filtro g → Variable: es_superhost (solo registros donde el host es superhost).\n",
    "\n",
    "Filtro h → Columnas seleccionadas: todas las columnas con índice impar en pandas (1, 3, 5, …)."
   ]
  },
  {
   "cell_type": "code",
   "execution_count": 35,
   "id": "6e113662",
   "metadata": {},
   "outputs": [],
   "source": [
    "# Importar librerías\n",
    "import pandas as pd\n",
    "import os"
   ]
  },
  {
   "cell_type": "code",
   "execution_count": 36,
   "id": "fc52dffe",
   "metadata": {},
   "outputs": [],
   "source": [
    "# Configuración de rutas\n",
    "INPUT_PATH = r\"C:\\Users\\navae\\OneDrive\\Escritorio\\Tec\\Semestre 5\\Plataformas de analítica de negocios para organizaciones\\Clonación Github\\Extraccion_de_Datos\\Actividad 2.2\\listings_filtrado_es.csv\"\n",
    "OUTPUT_DIR = r\"C:\\Users\\navae\\OneDrive\\Escritorio\\Tec\\Semestre 5\\Plataformas de analítica de negocios para organizaciones\\Clonación Github\\Extraccion_de_Datos\\Actividad 2.2\""
   ]
  },
  {
   "cell_type": "code",
   "execution_count": 37,
   "id": "9b406161",
   "metadata": {},
   "outputs": [],
   "source": [
    "# Leer CSV\n",
    "df = pd.read_csv(INPUT_PATH, low_memory=False)"
   ]
  },
  {
   "cell_type": "code",
   "execution_count": 38,
   "id": "41284cdb",
   "metadata": {},
   "outputs": [
    {
     "name": "stdout",
     "output_type": "stream",
     "text": [
      "a) Se filtraron 5 anfitriones distintos y se ordenaron por id_anfitrion (columna: id_anfitrion)\n"
     ]
    }
   ],
   "source": [
    "# a) Registros de 5 “host” diferentes en orden\n",
    "# Usamos 'id_anfitrion' en lugar de 'host_name'\n",
    "filtro_a = df[df[\"id_anfitrion\"].isin(df[\"id_anfitrion\"].unique()[:5])]\n",
    "filtro_a = filtro_a.sort_values(by=\"id_anfitrion\")  # ordena para que salgan juntos\n",
    "filtro_a.to_csv(os.path.join(OUTPUT_DIR, \"Filtro_A.csv\"), index=False)\n",
    "print(\"a) Se filtraron 5 anfitriones distintos y se ordenaron por id_anfitrion (columna: id_anfitrion)\")"
   ]
  },
  {
   "cell_type": "code",
   "execution_count": 39,
   "id": "620c6b0f",
   "metadata": {},
   "outputs": [
    {
     "name": "stdout",
     "output_type": "stream",
     "text": [
      "b) Se filtraron hosts con antigüedad después de 2020 (columna: antiguedad_host)\n"
     ]
    }
   ],
   "source": [
    "# b) Hosts que se unieron después de 2020 (antiguedad_host)\n",
    "df[\"antiguedad_host\"] = pd.to_datetime(df[\"antiguedad_host\"], errors=\"coerce\")\n",
    "filtro_b = df[df[\"antiguedad_host\"].dt.year > 2020]\n",
    "filtro_b.to_csv(os.path.join(OUTPUT_DIR, \"Filtro_B.csv\"), index=False)\n",
    "print(\"b) Se filtraron hosts con antigüedad después de 2020 (columna: antiguedad_host)\")"
   ]
  },
  {
   "cell_type": "code",
   "execution_count": 40,
   "id": "6a68d3e8",
   "metadata": {},
   "outputs": [
    {
     "name": "stdout",
     "output_type": "stream",
     "text": [
      "c) Se filtraron hosts con tiempo de respuesta <= 1 día (columna: tiempo_respuesta_host)\n"
     ]
    }
   ],
   "source": [
    "# c) Hosts que responden a más tardar en 1 día (tiempo_respuesta_host)\n",
    "filtro_c = df[df[\"tiempo_respuesta_host\"].str.contains(\"day\", case=False, na=False)]\n",
    "filtro_c.to_csv(os.path.join(OUTPUT_DIR, \"Filtro_C.csv\"), index=False)\n",
    "print(\"c) Se filtraron hosts con tiempo de respuesta <= 1 día (columna: tiempo_respuesta_host)\")"
   ]
  },
  {
   "cell_type": "code",
   "execution_count": 41,
   "id": "a4567447",
   "metadata": {},
   "outputs": [
    {
     "name": "stdout",
     "output_type": "stream",
     "text": [
      "d) Se filtraron filas múltiplos de 200 (todas las columnas)\n"
     ]
    }
   ],
   "source": [
    "# d) Filas múltiplos de 200 (400, 600, 800…)\n",
    "filtro_d = df.iloc[::200, :]  # cada fila múltiplo de 200\n",
    "filtro_d.to_csv(os.path.join(OUTPUT_DIR, \"Filtro_D.csv\"), index=False)\n",
    "print(\"d) Se filtraron filas múltiplos de 200 (todas las columnas)\")"
   ]
  },
  {
   "cell_type": "code",
   "execution_count": 42,
   "id": "e76b58c6",
   "metadata": {},
   "outputs": [
    {
     "name": "stdout",
     "output_type": "stream",
     "text": [
      "e) Se filtraron registros con tipo de habitación Entire home/apt o Private room (columna: tipo_habitacion)\n"
     ]
    }
   ],
   "source": [
    "# e) Tipos de cuarto: Entire home y Private room\n",
    "filtro_e = df[df[\"tipo_habitacion\"].isin([\"Entire home/apt\", \"Private room\"])]\n",
    "filtro_e.to_csv(os.path.join(OUTPUT_DIR, \"Filtro_E.csv\"), index=False)\n",
    "print(\"e) Se filtraron registros con tipo de habitación Entire home/apt o Private room (columna: tipo_habitacion)\")"
   ]
  },
  {
   "cell_type": "code",
   "execution_count": 43,
   "id": "0942fc7e",
   "metadata": {},
   "outputs": [
    {
     "name": "stdout",
     "output_type": "stream",
     "text": [
      "f) Se filtraron registros con máximo 4 camas (columna: camas)\n"
     ]
    }
   ],
   "source": [
    "# f) A lo mucho 4 camas (camas <= 4)\n",
    "filtro_f = df[df[\"camas\"] <= 4]\n",
    "filtro_f.to_csv(os.path.join(OUTPUT_DIR, \"Filtro_F.csv\"), index=False)\n",
    "print(\"f) Se filtraron registros con máximo 4 camas (columna: camas)\")"
   ]
  },
  {
   "cell_type": "code",
   "execution_count": 44,
   "id": "25172b29",
   "metadata": {},
   "outputs": [
    {
     "name": "stdout",
     "output_type": "stream",
     "text": [
      "g) Se filtraron registros que son superhost (columna: es_superhost)\n"
     ]
    }
   ],
   "source": [
    "# g) Superhost (es_superhost = 't')\n",
    "filtro_g = df[df[\"es_superhost\"] == \"t\"]\n",
    "filtro_g.to_csv(os.path.join(OUTPUT_DIR, \"Filtro_G.csv\"), index=False)\n",
    "print(\"g) Se filtraron registros que son superhost (columna: es_superhost)\")"
   ]
  },
  {
   "cell_type": "code",
   "execution_count": 45,
   "id": "69870361",
   "metadata": {},
   "outputs": [
    {
     "name": "stdout",
     "output_type": "stream",
     "text": [
      "h) Se filtraron columnas impares del dataframe (todas las filas)\n"
     ]
    }
   ],
   "source": [
    "# h) Columnas impares\n",
    "filtro_h = df.iloc[:, 1::2]\n",
    "filtro_h.to_csv(os.path.join(OUTPUT_DIR, \"Filtro_H.csv\"), index=False)\n",
    "print(\"h) Se filtraron columnas impares del dataframe (todas las filas)\")"
   ]
  }
 ],
 "metadata": {
  "kernelspec": {
   "display_name": "Python 3",
   "language": "python",
   "name": "python3"
  },
  "language_info": {
   "codemirror_mode": {
    "name": "ipython",
    "version": 3
   },
   "file_extension": ".py",
   "mimetype": "text/x-python",
   "name": "python",
   "nbconvert_exporter": "python",
   "pygments_lexer": "ipython3",
   "version": "3.13.6"
  }
 },
 "nbformat": 4,
 "nbformat_minor": 5
}
